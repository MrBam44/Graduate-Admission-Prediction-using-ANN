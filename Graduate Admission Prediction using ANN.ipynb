{
 "cells": [
  {
   "cell_type": "code",
   "execution_count": 1,
   "id": "5058238d",
   "metadata": {},
   "outputs": [],
   "source": [
    "import pandas as pd \n",
    "import numpy as np\n"
   ]
  },
  {
   "cell_type": "code",
   "execution_count": 2,
   "id": "b05e875c",
   "metadata": {},
   "outputs": [
    {
     "data": {
      "text/html": [
       "<div>\n",
       "<style scoped>\n",
       "    .dataframe tbody tr th:only-of-type {\n",
       "        vertical-align: middle;\n",
       "    }\n",
       "\n",
       "    .dataframe tbody tr th {\n",
       "        vertical-align: top;\n",
       "    }\n",
       "\n",
       "    .dataframe thead th {\n",
       "        text-align: right;\n",
       "    }\n",
       "</style>\n",
       "<table border=\"1\" class=\"dataframe\">\n",
       "  <thead>\n",
       "    <tr style=\"text-align: right;\">\n",
       "      <th></th>\n",
       "      <th>Serial No.</th>\n",
       "      <th>GRE Score</th>\n",
       "      <th>TOEFL Score</th>\n",
       "      <th>University Rating</th>\n",
       "      <th>SOP</th>\n",
       "      <th>LOR</th>\n",
       "      <th>CGPA</th>\n",
       "      <th>Research</th>\n",
       "      <th>Chance of Admit</th>\n",
       "    </tr>\n",
       "  </thead>\n",
       "  <tbody>\n",
       "    <tr>\n",
       "      <th>0</th>\n",
       "      <td>1</td>\n",
       "      <td>337</td>\n",
       "      <td>118</td>\n",
       "      <td>4</td>\n",
       "      <td>4.5</td>\n",
       "      <td>4.5</td>\n",
       "      <td>9.65</td>\n",
       "      <td>1</td>\n",
       "      <td>0.92</td>\n",
       "    </tr>\n",
       "    <tr>\n",
       "      <th>1</th>\n",
       "      <td>2</td>\n",
       "      <td>324</td>\n",
       "      <td>107</td>\n",
       "      <td>4</td>\n",
       "      <td>4.0</td>\n",
       "      <td>4.5</td>\n",
       "      <td>8.87</td>\n",
       "      <td>1</td>\n",
       "      <td>0.76</td>\n",
       "    </tr>\n",
       "    <tr>\n",
       "      <th>2</th>\n",
       "      <td>3</td>\n",
       "      <td>316</td>\n",
       "      <td>104</td>\n",
       "      <td>3</td>\n",
       "      <td>3.0</td>\n",
       "      <td>3.5</td>\n",
       "      <td>8.00</td>\n",
       "      <td>1</td>\n",
       "      <td>0.72</td>\n",
       "    </tr>\n",
       "    <tr>\n",
       "      <th>3</th>\n",
       "      <td>4</td>\n",
       "      <td>322</td>\n",
       "      <td>110</td>\n",
       "      <td>3</td>\n",
       "      <td>3.5</td>\n",
       "      <td>2.5</td>\n",
       "      <td>8.67</td>\n",
       "      <td>1</td>\n",
       "      <td>0.80</td>\n",
       "    </tr>\n",
       "    <tr>\n",
       "      <th>4</th>\n",
       "      <td>5</td>\n",
       "      <td>314</td>\n",
       "      <td>103</td>\n",
       "      <td>2</td>\n",
       "      <td>2.0</td>\n",
       "      <td>3.0</td>\n",
       "      <td>8.21</td>\n",
       "      <td>0</td>\n",
       "      <td>0.65</td>\n",
       "    </tr>\n",
       "  </tbody>\n",
       "</table>\n",
       "</div>"
      ],
      "text/plain": [
       "   Serial No.  GRE Score  TOEFL Score  University Rating  SOP  LOR   CGPA  \\\n",
       "0           1        337          118                  4  4.5   4.5  9.65   \n",
       "1           2        324          107                  4  4.0   4.5  8.87   \n",
       "2           3        316          104                  3  3.0   3.5  8.00   \n",
       "3           4        322          110                  3  3.5   2.5  8.67   \n",
       "4           5        314          103                  2  2.0   3.0  8.21   \n",
       "\n",
       "   Research  Chance of Admit   \n",
       "0         1              0.92  \n",
       "1         1              0.76  \n",
       "2         1              0.72  \n",
       "3         1              0.80  \n",
       "4         0              0.65  "
      ]
     },
     "execution_count": 2,
     "metadata": {},
     "output_type": "execute_result"
    }
   ],
   "source": [
    "df = pd.read_csv('Admission_Predict.csv')\n",
    "df.head()"
   ]
  },
  {
   "cell_type": "code",
   "execution_count": 3,
   "id": "0f8bfc73",
   "metadata": {},
   "outputs": [
    {
     "data": {
      "text/plain": [
       "(400, 9)"
      ]
     },
     "execution_count": 3,
     "metadata": {},
     "output_type": "execute_result"
    }
   ],
   "source": [
    "df.shape"
   ]
  },
  {
   "cell_type": "code",
   "execution_count": 4,
   "id": "8dd36197",
   "metadata": {},
   "outputs": [
    {
     "name": "stdout",
     "output_type": "stream",
     "text": [
      "<class 'pandas.core.frame.DataFrame'>\n",
      "RangeIndex: 400 entries, 0 to 399\n",
      "Data columns (total 9 columns):\n",
      " #   Column             Non-Null Count  Dtype  \n",
      "---  ------             --------------  -----  \n",
      " 0   Serial No.         400 non-null    int64  \n",
      " 1   GRE Score          400 non-null    int64  \n",
      " 2   TOEFL Score        400 non-null    int64  \n",
      " 3   University Rating  400 non-null    int64  \n",
      " 4   SOP                400 non-null    float64\n",
      " 5   LOR                400 non-null    float64\n",
      " 6   CGPA               400 non-null    float64\n",
      " 7   Research           400 non-null    int64  \n",
      " 8   Chance of Admit    400 non-null    float64\n",
      "dtypes: float64(4), int64(5)\n",
      "memory usage: 28.2 KB\n"
     ]
    }
   ],
   "source": [
    "df.info()"
   ]
  },
  {
   "cell_type": "code",
   "execution_count": 5,
   "id": "e2e9b123",
   "metadata": {},
   "outputs": [
    {
     "data": {
      "text/plain": [
       "Serial No.           0\n",
       "GRE Score            0\n",
       "TOEFL Score          0\n",
       "University Rating    0\n",
       "SOP                  0\n",
       "LOR                  0\n",
       "CGPA                 0\n",
       "Research             0\n",
       "Chance of Admit      0\n",
       "dtype: int64"
      ]
     },
     "execution_count": 5,
     "metadata": {},
     "output_type": "execute_result"
    }
   ],
   "source": [
    "df.isnull().sum()"
   ]
  },
  {
   "cell_type": "code",
   "execution_count": 6,
   "id": "9a77ccbe",
   "metadata": {},
   "outputs": [
    {
     "data": {
      "text/plain": [
       "0"
      ]
     },
     "execution_count": 6,
     "metadata": {},
     "output_type": "execute_result"
    }
   ],
   "source": [
    "df.duplicated().sum()"
   ]
  },
  {
   "cell_type": "code",
   "execution_count": 7,
   "id": "b97b00c6",
   "metadata": {},
   "outputs": [],
   "source": [
    "df.drop(columns=['Serial No.'], inplace=True)"
   ]
  },
  {
   "cell_type": "code",
   "execution_count": 8,
   "id": "3314608d",
   "metadata": {},
   "outputs": [
    {
     "data": {
      "text/html": [
       "<div>\n",
       "<style scoped>\n",
       "    .dataframe tbody tr th:only-of-type {\n",
       "        vertical-align: middle;\n",
       "    }\n",
       "\n",
       "    .dataframe tbody tr th {\n",
       "        vertical-align: top;\n",
       "    }\n",
       "\n",
       "    .dataframe thead th {\n",
       "        text-align: right;\n",
       "    }\n",
       "</style>\n",
       "<table border=\"1\" class=\"dataframe\">\n",
       "  <thead>\n",
       "    <tr style=\"text-align: right;\">\n",
       "      <th></th>\n",
       "      <th>GRE Score</th>\n",
       "      <th>TOEFL Score</th>\n",
       "      <th>University Rating</th>\n",
       "      <th>SOP</th>\n",
       "      <th>LOR</th>\n",
       "      <th>CGPA</th>\n",
       "      <th>Research</th>\n",
       "      <th>Chance of Admit</th>\n",
       "    </tr>\n",
       "  </thead>\n",
       "  <tbody>\n",
       "    <tr>\n",
       "      <th>0</th>\n",
       "      <td>337</td>\n",
       "      <td>118</td>\n",
       "      <td>4</td>\n",
       "      <td>4.5</td>\n",
       "      <td>4.5</td>\n",
       "      <td>9.65</td>\n",
       "      <td>1</td>\n",
       "      <td>0.92</td>\n",
       "    </tr>\n",
       "    <tr>\n",
       "      <th>1</th>\n",
       "      <td>324</td>\n",
       "      <td>107</td>\n",
       "      <td>4</td>\n",
       "      <td>4.0</td>\n",
       "      <td>4.5</td>\n",
       "      <td>8.87</td>\n",
       "      <td>1</td>\n",
       "      <td>0.76</td>\n",
       "    </tr>\n",
       "    <tr>\n",
       "      <th>2</th>\n",
       "      <td>316</td>\n",
       "      <td>104</td>\n",
       "      <td>3</td>\n",
       "      <td>3.0</td>\n",
       "      <td>3.5</td>\n",
       "      <td>8.00</td>\n",
       "      <td>1</td>\n",
       "      <td>0.72</td>\n",
       "    </tr>\n",
       "    <tr>\n",
       "      <th>3</th>\n",
       "      <td>322</td>\n",
       "      <td>110</td>\n",
       "      <td>3</td>\n",
       "      <td>3.5</td>\n",
       "      <td>2.5</td>\n",
       "      <td>8.67</td>\n",
       "      <td>1</td>\n",
       "      <td>0.80</td>\n",
       "    </tr>\n",
       "    <tr>\n",
       "      <th>4</th>\n",
       "      <td>314</td>\n",
       "      <td>103</td>\n",
       "      <td>2</td>\n",
       "      <td>2.0</td>\n",
       "      <td>3.0</td>\n",
       "      <td>8.21</td>\n",
       "      <td>0</td>\n",
       "      <td>0.65</td>\n",
       "    </tr>\n",
       "  </tbody>\n",
       "</table>\n",
       "</div>"
      ],
      "text/plain": [
       "   GRE Score  TOEFL Score  University Rating  SOP  LOR   CGPA  Research  \\\n",
       "0        337          118                  4  4.5   4.5  9.65         1   \n",
       "1        324          107                  4  4.0   4.5  8.87         1   \n",
       "2        316          104                  3  3.0   3.5  8.00         1   \n",
       "3        322          110                  3  3.5   2.5  8.67         1   \n",
       "4        314          103                  2  2.0   3.0  8.21         0   \n",
       "\n",
       "   Chance of Admit   \n",
       "0              0.92  \n",
       "1              0.76  \n",
       "2              0.72  \n",
       "3              0.80  \n",
       "4              0.65  "
      ]
     },
     "execution_count": 8,
     "metadata": {},
     "output_type": "execute_result"
    }
   ],
   "source": [
    "df.head()"
   ]
  },
  {
   "cell_type": "code",
   "execution_count": 9,
   "id": "af44b14c",
   "metadata": {},
   "outputs": [
    {
     "data": {
      "text/plain": [
       "0      0.92\n",
       "1      0.76\n",
       "2      0.72\n",
       "3      0.80\n",
       "4      0.65\n",
       "       ... \n",
       "395    0.82\n",
       "396    0.84\n",
       "397    0.91\n",
       "398    0.67\n",
       "399    0.95\n",
       "Name: Chance of Admit , Length: 400, dtype: float64"
      ]
     },
     "execution_count": 9,
     "metadata": {},
     "output_type": "execute_result"
    }
   ],
   "source": [
    "x= df.iloc[:,0:-1]\n",
    "y= df.iloc[:,-1]\n",
    "y"
   ]
  },
  {
   "cell_type": "code",
   "execution_count": 10,
   "id": "1f119494",
   "metadata": {},
   "outputs": [],
   "source": [
    "from sklearn.model_selection import train_test_split\n",
    "x_train, x_test, y_train,y_test= train_test_split(x, y, test_size=0.2, random_state =1)"
   ]
  },
  {
   "cell_type": "code",
   "execution_count": 11,
   "id": "c5b8f0aa",
   "metadata": {},
   "outputs": [
    {
     "data": {
      "text/html": [
       "<div>\n",
       "<style scoped>\n",
       "    .dataframe tbody tr th:only-of-type {\n",
       "        vertical-align: middle;\n",
       "    }\n",
       "\n",
       "    .dataframe tbody tr th {\n",
       "        vertical-align: top;\n",
       "    }\n",
       "\n",
       "    .dataframe thead th {\n",
       "        text-align: right;\n",
       "    }\n",
       "</style>\n",
       "<table border=\"1\" class=\"dataframe\">\n",
       "  <thead>\n",
       "    <tr style=\"text-align: right;\">\n",
       "      <th></th>\n",
       "      <th>GRE Score</th>\n",
       "      <th>TOEFL Score</th>\n",
       "      <th>University Rating</th>\n",
       "      <th>SOP</th>\n",
       "      <th>LOR</th>\n",
       "      <th>CGPA</th>\n",
       "      <th>Research</th>\n",
       "    </tr>\n",
       "  </thead>\n",
       "  <tbody>\n",
       "    <tr>\n",
       "      <th>93</th>\n",
       "      <td>301</td>\n",
       "      <td>97</td>\n",
       "      <td>2</td>\n",
       "      <td>3.0</td>\n",
       "      <td>3.0</td>\n",
       "      <td>7.88</td>\n",
       "      <td>1</td>\n",
       "    </tr>\n",
       "    <tr>\n",
       "      <th>23</th>\n",
       "      <td>334</td>\n",
       "      <td>119</td>\n",
       "      <td>5</td>\n",
       "      <td>5.0</td>\n",
       "      <td>4.5</td>\n",
       "      <td>9.70</td>\n",
       "      <td>1</td>\n",
       "    </tr>\n",
       "    <tr>\n",
       "      <th>299</th>\n",
       "      <td>305</td>\n",
       "      <td>112</td>\n",
       "      <td>3</td>\n",
       "      <td>3.0</td>\n",
       "      <td>3.5</td>\n",
       "      <td>8.65</td>\n",
       "      <td>0</td>\n",
       "    </tr>\n",
       "    <tr>\n",
       "      <th>13</th>\n",
       "      <td>307</td>\n",
       "      <td>109</td>\n",
       "      <td>3</td>\n",
       "      <td>4.0</td>\n",
       "      <td>3.0</td>\n",
       "      <td>8.00</td>\n",
       "      <td>1</td>\n",
       "    </tr>\n",
       "    <tr>\n",
       "      <th>90</th>\n",
       "      <td>318</td>\n",
       "      <td>106</td>\n",
       "      <td>2</td>\n",
       "      <td>4.0</td>\n",
       "      <td>4.0</td>\n",
       "      <td>7.92</td>\n",
       "      <td>1</td>\n",
       "    </tr>\n",
       "    <tr>\n",
       "      <th>...</th>\n",
       "      <td>...</td>\n",
       "      <td>...</td>\n",
       "      <td>...</td>\n",
       "      <td>...</td>\n",
       "      <td>...</td>\n",
       "      <td>...</td>\n",
       "      <td>...</td>\n",
       "    </tr>\n",
       "    <tr>\n",
       "      <th>255</th>\n",
       "      <td>307</td>\n",
       "      <td>110</td>\n",
       "      <td>4</td>\n",
       "      <td>4.0</td>\n",
       "      <td>4.5</td>\n",
       "      <td>8.37</td>\n",
       "      <td>0</td>\n",
       "    </tr>\n",
       "    <tr>\n",
       "      <th>72</th>\n",
       "      <td>321</td>\n",
       "      <td>111</td>\n",
       "      <td>5</td>\n",
       "      <td>5.0</td>\n",
       "      <td>5.0</td>\n",
       "      <td>9.45</td>\n",
       "      <td>1</td>\n",
       "    </tr>\n",
       "    <tr>\n",
       "      <th>396</th>\n",
       "      <td>325</td>\n",
       "      <td>107</td>\n",
       "      <td>3</td>\n",
       "      <td>3.0</td>\n",
       "      <td>3.5</td>\n",
       "      <td>9.11</td>\n",
       "      <td>1</td>\n",
       "    </tr>\n",
       "    <tr>\n",
       "      <th>235</th>\n",
       "      <td>326</td>\n",
       "      <td>111</td>\n",
       "      <td>5</td>\n",
       "      <td>4.5</td>\n",
       "      <td>4.0</td>\n",
       "      <td>9.23</td>\n",
       "      <td>1</td>\n",
       "    </tr>\n",
       "    <tr>\n",
       "      <th>37</th>\n",
       "      <td>300</td>\n",
       "      <td>105</td>\n",
       "      <td>1</td>\n",
       "      <td>1.0</td>\n",
       "      <td>2.0</td>\n",
       "      <td>7.80</td>\n",
       "      <td>0</td>\n",
       "    </tr>\n",
       "  </tbody>\n",
       "</table>\n",
       "<p>320 rows × 7 columns</p>\n",
       "</div>"
      ],
      "text/plain": [
       "     GRE Score  TOEFL Score  University Rating  SOP  LOR   CGPA  Research\n",
       "93         301           97                  2  3.0   3.0  7.88         1\n",
       "23         334          119                  5  5.0   4.5  9.70         1\n",
       "299        305          112                  3  3.0   3.5  8.65         0\n",
       "13         307          109                  3  4.0   3.0  8.00         1\n",
       "90         318          106                  2  4.0   4.0  7.92         1\n",
       "..         ...          ...                ...  ...   ...   ...       ...\n",
       "255        307          110                  4  4.0   4.5  8.37         0\n",
       "72         321          111                  5  5.0   5.0  9.45         1\n",
       "396        325          107                  3  3.0   3.5  9.11         1\n",
       "235        326          111                  5  4.5   4.0  9.23         1\n",
       "37         300          105                  1  1.0   2.0  7.80         0\n",
       "\n",
       "[320 rows x 7 columns]"
      ]
     },
     "execution_count": 11,
     "metadata": {},
     "output_type": "execute_result"
    }
   ],
   "source": [
    "x_train"
   ]
  },
  {
   "cell_type": "code",
   "execution_count": 12,
   "id": "6e6dc2aa",
   "metadata": {},
   "outputs": [],
   "source": [
    "from sklearn.preprocessing import MinMaxScaler\n",
    "scaler = MinMaxScaler()\n",
    "x_train_scaler= scaler.fit_transform(x_train)\n",
    "x_test_scaler = scaler.transform(x_test)"
   ]
  },
  {
   "cell_type": "code",
   "execution_count": 13,
   "id": "5adb4206",
   "metadata": {},
   "outputs": [
    {
     "data": {
      "text/plain": [
       "array([[0.22      , 0.17857143, 0.25      , ..., 0.42857143, 0.25      ,\n",
       "        1.        ],\n",
       "       [0.88      , 0.96428571, 1.        , ..., 0.85714286, 0.91911765,\n",
       "        1.        ],\n",
       "       [0.3       , 0.71428571, 0.5       , ..., 0.57142857, 0.53308824,\n",
       "        0.        ],\n",
       "       ...,\n",
       "       [0.7       , 0.53571429, 0.5       , ..., 0.57142857, 0.70220588,\n",
       "        1.        ],\n",
       "       [0.72      , 0.67857143, 1.        , ..., 0.71428571, 0.74632353,\n",
       "        1.        ],\n",
       "       [0.2       , 0.46428571, 0.        , ..., 0.14285714, 0.22058824,\n",
       "        0.        ]])"
      ]
     },
     "execution_count": 13,
     "metadata": {},
     "output_type": "execute_result"
    }
   ],
   "source": [
    "x_train_scaler"
   ]
  },
  {
   "cell_type": "code",
   "execution_count": 14,
   "id": "5967c4a0",
   "metadata": {},
   "outputs": [],
   "source": [
    "import tensorflow\n",
    "from tensorflow import keras\n",
    "from keras import Sequential\n",
    "from keras.layers import Dense"
   ]
  },
  {
   "cell_type": "code",
   "execution_count": 15,
   "id": "cde98b8e",
   "metadata": {},
   "outputs": [],
   "source": [
    "model= Sequential()\n",
    "model.add(Dense(8, activation='relu',input_dim=7))\n",
    "model.add(Dense(9, activation='relu'))\n",
    "model.add(Dense(9, activation='relu'))\n",
    "model.add(Dense(9, activation='relu'))\n",
    "model.add(Dense(1, activation='linear'))"
   ]
  },
  {
   "cell_type": "code",
   "execution_count": 16,
   "id": "97ef3b66",
   "metadata": {},
   "outputs": [
    {
     "name": "stdout",
     "output_type": "stream",
     "text": [
      "Model: \"sequential\"\n",
      "_________________________________________________________________\n",
      " Layer (type)                Output Shape              Param #   \n",
      "=================================================================\n",
      " dense (Dense)               (None, 8)                 64        \n",
      "                                                                 \n",
      " dense_1 (Dense)             (None, 9)                 81        \n",
      "                                                                 \n",
      " dense_2 (Dense)             (None, 9)                 90        \n",
      "                                                                 \n",
      " dense_3 (Dense)             (None, 9)                 90        \n",
      "                                                                 \n",
      " dense_4 (Dense)             (None, 1)                 10        \n",
      "                                                                 \n",
      "=================================================================\n",
      "Total params: 335\n",
      "Trainable params: 335\n",
      "Non-trainable params: 0\n",
      "_________________________________________________________________\n"
     ]
    }
   ],
   "source": [
    "model.summary()"
   ]
  },
  {
   "cell_type": "code",
   "execution_count": 17,
   "id": "104fa723",
   "metadata": {},
   "outputs": [],
   "source": [
    "model.compile(loss='mean_squared_error', optimizer = 'Adam')"
   ]
  },
  {
   "cell_type": "code",
   "execution_count": 18,
   "id": "f337445d",
   "metadata": {},
   "outputs": [
    {
     "name": "stdout",
     "output_type": "stream",
     "text": [
      "Epoch 1/120\n",
      "8/8 [==============================] - 0s 17ms/step - loss: 0.7233 - val_loss: 0.7294\n",
      "Epoch 2/120\n",
      "8/8 [==============================] - 0s 7ms/step - loss: 0.6178 - val_loss: 0.6311\n",
      "Epoch 3/120\n",
      "8/8 [==============================] - 0s 8ms/step - loss: 0.5397 - val_loss: 0.5568\n",
      "Epoch 4/120\n",
      "8/8 [==============================] - 0s 6ms/step - loss: 0.4835 - val_loss: 0.5049\n",
      "Epoch 5/120\n",
      "8/8 [==============================] - 0s 4ms/step - loss: 0.4472 - val_loss: 0.4695\n",
      "Epoch 6/120\n",
      "8/8 [==============================] - 0s 6ms/step - loss: 0.4201 - val_loss: 0.4427\n",
      "Epoch 7/120\n",
      "8/8 [==============================] - 0s 6ms/step - loss: 0.3961 - val_loss: 0.4164\n",
      "Epoch 8/120\n",
      "8/8 [==============================] - 0s 4ms/step - loss: 0.3711 - val_loss: 0.3878\n",
      "Epoch 9/120\n",
      "8/8 [==============================] - 0s 5ms/step - loss: 0.3421 - val_loss: 0.3539\n",
      "Epoch 10/120\n",
      "8/8 [==============================] - 0s 5ms/step - loss: 0.3012 - val_loss: 0.3045\n",
      "Epoch 11/120\n",
      "8/8 [==============================] - 0s 6ms/step - loss: 0.2570 - val_loss: 0.2606\n",
      "Epoch 12/120\n",
      "8/8 [==============================] - 0s 6ms/step - loss: 0.2182 - val_loss: 0.2193\n",
      "Epoch 13/120\n",
      "8/8 [==============================] - 0s 6ms/step - loss: 0.1805 - val_loss: 0.1782\n",
      "Epoch 14/120\n",
      "8/8 [==============================] - 0s 5ms/step - loss: 0.1434 - val_loss: 0.1380\n",
      "Epoch 15/120\n",
      "8/8 [==============================] - 0s 7ms/step - loss: 0.1083 - val_loss: 0.0996\n",
      "Epoch 16/120\n",
      "8/8 [==============================] - 0s 6ms/step - loss: 0.0754 - val_loss: 0.0652\n",
      "Epoch 17/120\n",
      "8/8 [==============================] - 0s 6ms/step - loss: 0.0469 - val_loss: 0.0375\n",
      "Epoch 18/120\n",
      "8/8 [==============================] - 0s 5ms/step - loss: 0.0263 - val_loss: 0.0183\n",
      "Epoch 19/120\n",
      "8/8 [==============================] - 0s 6ms/step - loss: 0.0137 - val_loss: 0.0083\n",
      "Epoch 20/120\n",
      "8/8 [==============================] - 0s 5ms/step - loss: 0.0085 - val_loss: 0.0051\n",
      "Epoch 21/120\n",
      "8/8 [==============================] - 0s 6ms/step - loss: 0.0077 - val_loss: 0.0048\n",
      "Epoch 22/120\n",
      "8/8 [==============================] - 0s 4ms/step - loss: 0.0078 - val_loss: 0.0048\n",
      "Epoch 23/120\n",
      "8/8 [==============================] - 0s 6ms/step - loss: 0.0077 - val_loss: 0.0047\n",
      "Epoch 24/120\n",
      "8/8 [==============================] - 0s 6ms/step - loss: 0.0074 - val_loss: 0.0046\n",
      "Epoch 25/120\n",
      "8/8 [==============================] - 0s 6ms/step - loss: 0.0073 - val_loss: 0.0047\n",
      "Epoch 26/120\n",
      "8/8 [==============================] - 0s 6ms/step - loss: 0.0072 - val_loss: 0.0047\n",
      "Epoch 27/120\n",
      "8/8 [==============================] - 0s 6ms/step - loss: 0.0072 - val_loss: 0.0047\n",
      "Epoch 28/120\n",
      "8/8 [==============================] - 0s 6ms/step - loss: 0.0071 - val_loss: 0.0046\n",
      "Epoch 29/120\n",
      "8/8 [==============================] - 0s 7ms/step - loss: 0.0070 - val_loss: 0.0046\n",
      "Epoch 30/120\n",
      "8/8 [==============================] - 0s 4ms/step - loss: 0.0070 - val_loss: 0.0046\n",
      "Epoch 31/120\n",
      "8/8 [==============================] - 0s 7ms/step - loss: 0.0069 - val_loss: 0.0046\n",
      "Epoch 32/120\n",
      "8/8 [==============================] - 0s 6ms/step - loss: 0.0068 - val_loss: 0.0045\n",
      "Epoch 33/120\n",
      "8/8 [==============================] - 0s 6ms/step - loss: 0.0068 - val_loss: 0.0045\n",
      "Epoch 34/120\n",
      "8/8 [==============================] - 0s 6ms/step - loss: 0.0067 - val_loss: 0.0045\n",
      "Epoch 35/120\n",
      "8/8 [==============================] - 0s 6ms/step - loss: 0.0067 - val_loss: 0.0045\n",
      "Epoch 36/120\n",
      "8/8 [==============================] - 0s 5ms/step - loss: 0.0066 - val_loss: 0.0045\n",
      "Epoch 37/120\n",
      "8/8 [==============================] - 0s 5ms/step - loss: 0.0066 - val_loss: 0.0045\n",
      "Epoch 38/120\n",
      "8/8 [==============================] - 0s 6ms/step - loss: 0.0065 - val_loss: 0.0045\n",
      "Epoch 39/120\n",
      "8/8 [==============================] - 0s 5ms/step - loss: 0.0065 - val_loss: 0.0044\n",
      "Epoch 40/120\n",
      "8/8 [==============================] - 0s 5ms/step - loss: 0.0064 - val_loss: 0.0044\n",
      "Epoch 41/120\n",
      "8/8 [==============================] - 0s 5ms/step - loss: 0.0064 - val_loss: 0.0044\n",
      "Epoch 42/120\n",
      "8/8 [==============================] - 0s 5ms/step - loss: 0.0064 - val_loss: 0.0044\n",
      "Epoch 43/120\n",
      "8/8 [==============================] - 0s 5ms/step - loss: 0.0063 - val_loss: 0.0044\n",
      "Epoch 44/120\n",
      "8/8 [==============================] - 0s 5ms/step - loss: 0.0063 - val_loss: 0.0043\n",
      "Epoch 45/120\n",
      "8/8 [==============================] - 0s 5ms/step - loss: 0.0062 - val_loss: 0.0043\n",
      "Epoch 46/120\n",
      "8/8 [==============================] - 0s 5ms/step - loss: 0.0062 - val_loss: 0.0044\n",
      "Epoch 47/120\n",
      "8/8 [==============================] - 0s 5ms/step - loss: 0.0062 - val_loss: 0.0044\n",
      "Epoch 48/120\n",
      "8/8 [==============================] - 0s 5ms/step - loss: 0.0061 - val_loss: 0.0044\n",
      "Epoch 49/120\n",
      "8/8 [==============================] - 0s 6ms/step - loss: 0.0061 - val_loss: 0.0043\n",
      "Epoch 50/120\n",
      "8/8 [==============================] - 0s 6ms/step - loss: 0.0060 - val_loss: 0.0043\n",
      "Epoch 51/120\n",
      "8/8 [==============================] - 0s 5ms/step - loss: 0.0060 - val_loss: 0.0043\n",
      "Epoch 52/120\n",
      "8/8 [==============================] - 0s 7ms/step - loss: 0.0059 - val_loss: 0.0043\n",
      "Epoch 53/120\n",
      "8/8 [==============================] - 0s 5ms/step - loss: 0.0059 - val_loss: 0.0043\n",
      "Epoch 54/120\n",
      "8/8 [==============================] - 0s 6ms/step - loss: 0.0059 - val_loss: 0.0043\n",
      "Epoch 55/120\n",
      "8/8 [==============================] - 0s 6ms/step - loss: 0.0058 - val_loss: 0.0043\n",
      "Epoch 56/120\n",
      "8/8 [==============================] - 0s 6ms/step - loss: 0.0058 - val_loss: 0.0043\n",
      "Epoch 57/120\n",
      "8/8 [==============================] - 0s 6ms/step - loss: 0.0057 - val_loss: 0.0043\n",
      "Epoch 58/120\n",
      "8/8 [==============================] - 0s 5ms/step - loss: 0.0057 - val_loss: 0.0043\n",
      "Epoch 59/120\n",
      "8/8 [==============================] - 0s 6ms/step - loss: 0.0057 - val_loss: 0.0042\n",
      "Epoch 60/120\n",
      "8/8 [==============================] - 0s 5ms/step - loss: 0.0056 - val_loss: 0.0043\n",
      "Epoch 61/120\n",
      "8/8 [==============================] - 0s 6ms/step - loss: 0.0056 - val_loss: 0.0043\n",
      "Epoch 62/120\n",
      "8/8 [==============================] - 0s 6ms/step - loss: 0.0055 - val_loss: 0.0043\n",
      "Epoch 63/120\n",
      "8/8 [==============================] - 0s 5ms/step - loss: 0.0055 - val_loss: 0.0043\n",
      "Epoch 64/120\n",
      "8/8 [==============================] - 0s 5ms/step - loss: 0.0054 - val_loss: 0.0042\n",
      "Epoch 65/120\n",
      "8/8 [==============================] - 0s 5ms/step - loss: 0.0054 - val_loss: 0.0042\n",
      "Epoch 66/120\n",
      "8/8 [==============================] - 0s 6ms/step - loss: 0.0053 - val_loss: 0.0042\n",
      "Epoch 67/120\n",
      "8/8 [==============================] - 0s 5ms/step - loss: 0.0053 - val_loss: 0.0043\n",
      "Epoch 68/120\n",
      "8/8 [==============================] - 0s 6ms/step - loss: 0.0053 - val_loss: 0.0042\n",
      "Epoch 69/120\n",
      "8/8 [==============================] - 0s 5ms/step - loss: 0.0052 - val_loss: 0.0042\n",
      "Epoch 70/120\n",
      "8/8 [==============================] - 0s 5ms/step - loss: 0.0052 - val_loss: 0.0043\n",
      "Epoch 71/120\n",
      "8/8 [==============================] - 0s 5ms/step - loss: 0.0051 - val_loss: 0.0043\n",
      "Epoch 72/120\n",
      "8/8 [==============================] - 0s 5ms/step - loss: 0.0051 - val_loss: 0.0043\n",
      "Epoch 73/120\n",
      "8/8 [==============================] - 0s 9ms/step - loss: 0.0051 - val_loss: 0.0043\n",
      "Epoch 74/120\n",
      "8/8 [==============================] - 0s 5ms/step - loss: 0.0050 - val_loss: 0.0043\n",
      "Epoch 75/120\n",
      "8/8 [==============================] - 0s 6ms/step - loss: 0.0050 - val_loss: 0.0043\n",
      "Epoch 76/120\n",
      "8/8 [==============================] - 0s 6ms/step - loss: 0.0050 - val_loss: 0.0043\n",
      "Epoch 77/120\n",
      "8/8 [==============================] - 0s 5ms/step - loss: 0.0049 - val_loss: 0.0043\n",
      "Epoch 78/120\n",
      "8/8 [==============================] - 0s 6ms/step - loss: 0.0049 - val_loss: 0.0043\n",
      "Epoch 79/120\n",
      "8/8 [==============================] - 0s 6ms/step - loss: 0.0049 - val_loss: 0.0043\n",
      "Epoch 80/120\n",
      "8/8 [==============================] - 0s 6ms/step - loss: 0.0049 - val_loss: 0.0043\n",
      "Epoch 81/120\n",
      "8/8 [==============================] - 0s 5ms/step - loss: 0.0049 - val_loss: 0.0043\n",
      "Epoch 82/120\n",
      "8/8 [==============================] - 0s 6ms/step - loss: 0.0048 - val_loss: 0.0043\n",
      "Epoch 83/120\n",
      "8/8 [==============================] - 0s 6ms/step - loss: 0.0048 - val_loss: 0.0043\n",
      "Epoch 84/120\n",
      "8/8 [==============================] - 0s 5ms/step - loss: 0.0048 - val_loss: 0.0043\n",
      "Epoch 85/120\n",
      "8/8 [==============================] - 0s 5ms/step - loss: 0.0048 - val_loss: 0.0043\n",
      "Epoch 86/120\n",
      "8/8 [==============================] - 0s 5ms/step - loss: 0.0048 - val_loss: 0.0042\n",
      "Epoch 87/120\n",
      "8/8 [==============================] - 0s 5ms/step - loss: 0.0048 - val_loss: 0.0043\n",
      "Epoch 88/120\n",
      "8/8 [==============================] - 0s 6ms/step - loss: 0.0047 - val_loss: 0.0043\n",
      "Epoch 89/120\n",
      "8/8 [==============================] - 0s 6ms/step - loss: 0.0047 - val_loss: 0.0043\n",
      "Epoch 90/120\n",
      "8/8 [==============================] - 0s 6ms/step - loss: 0.0047 - val_loss: 0.0042\n",
      "Epoch 91/120\n",
      "8/8 [==============================] - 0s 6ms/step - loss: 0.0047 - val_loss: 0.0042\n",
      "Epoch 92/120\n",
      "8/8 [==============================] - 0s 5ms/step - loss: 0.0047 - val_loss: 0.0043\n",
      "Epoch 93/120\n",
      "8/8 [==============================] - 0s 5ms/step - loss: 0.0047 - val_loss: 0.0042\n",
      "Epoch 94/120\n",
      "8/8 [==============================] - 0s 5ms/step - loss: 0.0047 - val_loss: 0.0043\n",
      "Epoch 95/120\n",
      "8/8 [==============================] - 0s 5ms/step - loss: 0.0046 - val_loss: 0.0042\n",
      "Epoch 96/120\n",
      "8/8 [==============================] - 0s 5ms/step - loss: 0.0046 - val_loss: 0.0042\n",
      "Epoch 97/120\n",
      "8/8 [==============================] - 0s 5ms/step - loss: 0.0046 - val_loss: 0.0042\n",
      "Epoch 98/120\n",
      "8/8 [==============================] - 0s 5ms/step - loss: 0.0046 - val_loss: 0.0042\n",
      "Epoch 99/120\n",
      "8/8 [==============================] - 0s 5ms/step - loss: 0.0046 - val_loss: 0.0042\n",
      "Epoch 100/120\n",
      "8/8 [==============================] - 0s 5ms/step - loss: 0.0046 - val_loss: 0.0042\n",
      "Epoch 101/120\n",
      "8/8 [==============================] - 0s 5ms/step - loss: 0.0046 - val_loss: 0.0041\n",
      "Epoch 102/120\n",
      "8/8 [==============================] - 0s 6ms/step - loss: 0.0045 - val_loss: 0.0041\n",
      "Epoch 103/120\n",
      "8/8 [==============================] - 0s 6ms/step - loss: 0.0045 - val_loss: 0.0042\n",
      "Epoch 104/120\n",
      "8/8 [==============================] - 0s 6ms/step - loss: 0.0045 - val_loss: 0.0041\n",
      "Epoch 105/120\n",
      "8/8 [==============================] - 0s 5ms/step - loss: 0.0045 - val_loss: 0.0041\n",
      "Epoch 106/120\n",
      "8/8 [==============================] - 0s 5ms/step - loss: 0.0045 - val_loss: 0.0040\n",
      "Epoch 107/120\n",
      "8/8 [==============================] - 0s 5ms/step - loss: 0.0045 - val_loss: 0.0040\n",
      "Epoch 108/120\n",
      "8/8 [==============================] - 0s 5ms/step - loss: 0.0045 - val_loss: 0.0040\n",
      "Epoch 109/120\n",
      "8/8 [==============================] - 0s 6ms/step - loss: 0.0045 - val_loss: 0.0041\n",
      "Epoch 110/120\n",
      "8/8 [==============================] - 0s 5ms/step - loss: 0.0045 - val_loss: 0.0041\n",
      "Epoch 111/120\n",
      "8/8 [==============================] - 0s 5ms/step - loss: 0.0044 - val_loss: 0.0040\n",
      "Epoch 112/120\n",
      "8/8 [==============================] - 0s 5ms/step - loss: 0.0044 - val_loss: 0.0040\n",
      "Epoch 113/120\n",
      "8/8 [==============================] - 0s 5ms/step - loss: 0.0044 - val_loss: 0.0040\n",
      "Epoch 114/120\n",
      "8/8 [==============================] - 0s 6ms/step - loss: 0.0044 - val_loss: 0.0040\n",
      "Epoch 115/120\n",
      "8/8 [==============================] - 0s 5ms/step - loss: 0.0044 - val_loss: 0.0040\n",
      "Epoch 116/120\n",
      "8/8 [==============================] - 0s 5ms/step - loss: 0.0044 - val_loss: 0.0040\n",
      "Epoch 117/120\n",
      "8/8 [==============================] - 0s 5ms/step - loss: 0.0044 - val_loss: 0.0040\n",
      "Epoch 118/120\n",
      "8/8 [==============================] - 0s 5ms/step - loss: 0.0044 - val_loss: 0.0040\n",
      "Epoch 119/120\n",
      "8/8 [==============================] - 0s 6ms/step - loss: 0.0044 - val_loss: 0.0040\n",
      "Epoch 120/120\n",
      "8/8 [==============================] - 0s 4ms/step - loss: 0.0044 - val_loss: 0.0040\n"
     ]
    }
   ],
   "source": [
    "history = model.fit(x_train_scaler, y_train, epochs=120, validation_split=0.2)"
   ]
  },
  {
   "cell_type": "code",
   "execution_count": 19,
   "id": "ed3af532",
   "metadata": {},
   "outputs": [],
   "source": [
    "y_pred = model.predict(x_test_scaler)"
   ]
  },
  {
   "cell_type": "code",
   "execution_count": 20,
   "id": "b1a33f33",
   "metadata": {},
   "outputs": [
    {
     "data": {
      "text/plain": [
       "0.8199435222271039"
      ]
     },
     "execution_count": 20,
     "metadata": {},
     "output_type": "execute_result"
    }
   ],
   "source": [
    "from sklearn.metrics import r2_score\n",
    "r2_score(y_test,y_pred)\n"
   ]
  },
  {
   "cell_type": "code",
   "execution_count": 21,
   "id": "1605221d",
   "metadata": {},
   "outputs": [
    {
     "data": {
      "text/plain": [
       "[<matplotlib.lines.Line2D at 0x20cfc760340>]"
      ]
     },
     "execution_count": 21,
     "metadata": {},
     "output_type": "execute_result"
    },
    {
     "data": {
      "image/png": "[encoded data removed]",
      "text/plain": [
       "<Figure size 432x288 with 1 Axes>"
      ]
     },
     "metadata": {
      "needs_background": "light"
     },
     "output_type": "display_data"
    }
   ],
   "source": [
    "import matplotlib.pyplot as plt\n",
    "plt.plot(history.history['loss'])\n",
    "plt.plot(history.history['val_loss'])"
   ]
  },
  {
   "cell_type": "code",
   "execution_count": null,
   "id": "b86954df",
   "metadata": {},
   "outputs": [],
   "source": []
  }
 ],
 "metadata": {
  "kernelspec": {
   "display_name": "Python 3 (ipykernel)",
   "language": "python",
   "name": "python3"
  },
  "language_info": {
   "codemirror_mode": {
    "name": "ipython",
    "version": 3
   },
   "file_extension": ".py",
   "mimetype": "text/x-python",
   "name": "python",
   "nbconvert_exporter": "python",
   "pygments_lexer": "ipython3",
   "version": "3.9.12"
  },
  "varInspector": {
   "cols": {
    "lenName": 16,
    "lenType": 16,
    "lenVar": 40
   },
   "kernels_config": {
    "python": {
     "delete_cmd_postfix": "",
     "delete_cmd_prefix": "del ",
     "library": "var_list.py",
     "varRefreshCmd": "print(var_dic_list())"
    },
    "r": {
     "delete_cmd_postfix": ") ",
     "delete_cmd_prefix": "rm(",
     "library": "var_list.r",
     "varRefreshCmd": "cat(var_dic_list()) "
    }
   },
   "types_to_exclude": [
    "module",
    "function",
    "builtin_function_or_method",
    "instance",
    "_Feature"
   ],
   "window_display": false
  }
 },
 "nbformat": 4,
 "nbformat_minor": 5
}
